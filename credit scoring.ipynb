{
 "cells": [
  {
   "cell_type": "code",
   "execution_count": 1,
   "id": "bd809087",
   "metadata": {},
   "outputs": [],
   "source": [
    "import pandas as pd\n",
    "import numpy as np"
   ]
  },
  {
   "cell_type": "code",
   "execution_count": 6,
   "id": "559434f5",
   "metadata": {},
   "outputs": [
    {
     "data": {
      "text/html": [
       "<div>\n",
       "<style scoped>\n",
       "    .dataframe tbody tr th:only-of-type {\n",
       "        vertical-align: middle;\n",
       "    }\n",
       "\n",
       "    .dataframe tbody tr th {\n",
       "        vertical-align: top;\n",
       "    }\n",
       "\n",
       "    .dataframe thead th {\n",
       "        text-align: right;\n",
       "    }\n",
       "</style>\n",
       "<table border=\"1\" class=\"dataframe\">\n",
       "  <thead>\n",
       "    <tr style=\"text-align: right;\">\n",
       "      <th></th>\n",
       "      <th>age</th>\n",
       "      <th>sex</th>\n",
       "      <th>province</th>\n",
       "      <th>req_date</th>\n",
       "      <th>is_bad</th>\n",
       "      <th>enc_id</th>\n",
       "      <th>enc_phone</th>\n",
       "      <th>mstcty</th>\n",
       "      <th>mst_encrypt</th>\n",
       "      <th>ngay_lap_re</th>\n",
       "      <th>...</th>\n",
       "      <th>biztime_monthly_calldayno_t12</th>\n",
       "      <th>biztime_monthly_callduration_t12</th>\n",
       "      <th>biztime_monthly_avgcallduration_t12</th>\n",
       "      <th>biztime_monthly_stdcallduration_t12</th>\n",
       "      <th>nighttime_monthly_nocontact_t12</th>\n",
       "      <th>nighttime_monthly_callno_t12</th>\n",
       "      <th>nighttime_monthly_calldayno_t12</th>\n",
       "      <th>nighttime_monthly_callduration_t12</th>\n",
       "      <th>nighttime_monthly_avgcallduration_t12</th>\n",
       "      <th>nighttime_monthly_stdcallduration_t12</th>\n",
       "    </tr>\n",
       "  </thead>\n",
       "  <tbody>\n",
       "    <tr>\n",
       "      <th>0</th>\n",
       "      <td>40</td>\n",
       "      <td>Male</td>\n",
       "      <td>Đồng Tháp</td>\n",
       "      <td>2019-09-09</td>\n",
       "      <td>1</td>\n",
       "      <td>qbmB2FDS/T9dbZVD/b33wg==</td>\n",
       "      <td>AqDUrRqQB5VWNeCEjWz1xA==</td>\n",
       "      <td>AlcWPA988/SiJ6VzK0Y80Q==</td>\n",
       "      <td>NaN</td>\n",
       "      <td>2017-03-30</td>\n",
       "      <td>...</td>\n",
       "      <td>NaN</td>\n",
       "      <td>NaN</td>\n",
       "      <td>NaN</td>\n",
       "      <td>NaN</td>\n",
       "      <td>NaN</td>\n",
       "      <td>NaN</td>\n",
       "      <td>NaN</td>\n",
       "      <td>NaN</td>\n",
       "      <td>NaN</td>\n",
       "      <td>NaN</td>\n",
       "    </tr>\n",
       "    <tr>\n",
       "      <th>1</th>\n",
       "      <td>32</td>\n",
       "      <td>Male</td>\n",
       "      <td>Hà Nội</td>\n",
       "      <td>2019-09-09</td>\n",
       "      <td>1</td>\n",
       "      <td>sKGZAxhjyO0nxQ9CrlZbSw==</td>\n",
       "      <td>X7sxKRS6+JpqHwBCxplySQ==</td>\n",
       "      <td>e2i08DAYVh3Ak1Tc1uGOeQ==</td>\n",
       "      <td>yJF35ZaZMOyKAlpmRy8+gQ==</td>\n",
       "      <td>2019-03-28</td>\n",
       "      <td>...</td>\n",
       "      <td>9.0</td>\n",
       "      <td>350.0</td>\n",
       "      <td>18.421053</td>\n",
       "      <td>12.125803</td>\n",
       "      <td>NaN</td>\n",
       "      <td>NaN</td>\n",
       "      <td>NaN</td>\n",
       "      <td>NaN</td>\n",
       "      <td>NaN</td>\n",
       "      <td>NaN</td>\n",
       "    </tr>\n",
       "    <tr>\n",
       "      <th>2</th>\n",
       "      <td>32</td>\n",
       "      <td>Male</td>\n",
       "      <td>Hà Nội</td>\n",
       "      <td>2019-09-09</td>\n",
       "      <td>1</td>\n",
       "      <td>Lert87J0SCGfce6PBkv0+w==</td>\n",
       "      <td>jJFZhFarLQ2XhQMRUYtwDg==</td>\n",
       "      <td>IMkcueFODYw8yBeIcrjfWw==</td>\n",
       "      <td>tl7HluUE2SMAxYKzUrAxfg==</td>\n",
       "      <td>2019-04-01</td>\n",
       "      <td>...</td>\n",
       "      <td>26.0</td>\n",
       "      <td>32849.0</td>\n",
       "      <td>23.977372</td>\n",
       "      <td>22.093273</td>\n",
       "      <td>12.0</td>\n",
       "      <td>22.0</td>\n",
       "      <td>12.0</td>\n",
       "      <td>2561.0</td>\n",
       "      <td>116.409091</td>\n",
       "      <td>163.256345</td>\n",
       "    </tr>\n",
       "    <tr>\n",
       "      <th>3</th>\n",
       "      <td>32</td>\n",
       "      <td>Female</td>\n",
       "      <td>Hà Nội</td>\n",
       "      <td>2019-09-09</td>\n",
       "      <td>1</td>\n",
       "      <td>SbtEwTlwz6kOJtnjtxDZ7A==</td>\n",
       "      <td>0Bol+Ib1xGA8xQUqb43Uyg==</td>\n",
       "      <td>9GTjGMqAROx0QDqSwSNRuw==</td>\n",
       "      <td>cTHkX9GiFDiX+gGjBjbcvQ==</td>\n",
       "      <td>2015-04-17</td>\n",
       "      <td>...</td>\n",
       "      <td>28.0</td>\n",
       "      <td>13066.0</td>\n",
       "      <td>123.264151</td>\n",
       "      <td>245.821240</td>\n",
       "      <td>1.0</td>\n",
       "      <td>3.0</td>\n",
       "      <td>1.0</td>\n",
       "      <td>234.0</td>\n",
       "      <td>78.000000</td>\n",
       "      <td>44.136153</td>\n",
       "    </tr>\n",
       "    <tr>\n",
       "      <th>4</th>\n",
       "      <td>32</td>\n",
       "      <td>Male</td>\n",
       "      <td>Phú Thọ</td>\n",
       "      <td>2019-09-08</td>\n",
       "      <td>1</td>\n",
       "      <td>gyoBkm/XqdHcd0hl5NScQw==</td>\n",
       "      <td>S9kop0jGn49mxYh+Sst1uQ==</td>\n",
       "      <td>Eq7QA7qXbUj0MSCIxQ5pZA==</td>\n",
       "      <td>0bMQgBJeWrfKNgQb68SJ+w==</td>\n",
       "      <td>2018-03-28</td>\n",
       "      <td>...</td>\n",
       "      <td>NaN</td>\n",
       "      <td>NaN</td>\n",
       "      <td>NaN</td>\n",
       "      <td>NaN</td>\n",
       "      <td>NaN</td>\n",
       "      <td>NaN</td>\n",
       "      <td>NaN</td>\n",
       "      <td>NaN</td>\n",
       "      <td>NaN</td>\n",
       "      <td>NaN</td>\n",
       "    </tr>\n",
       "  </tbody>\n",
       "</table>\n",
       "<p>5 rows × 328 columns</p>\n",
       "</div>"
      ],
      "text/plain": [
       "   age     sex   province   req_date  is_bad                    enc_id  \\\n",
       "0   40    Male  Đồng Tháp 2019-09-09       1  qbmB2FDS/T9dbZVD/b33wg==   \n",
       "1   32    Male     Hà Nội 2019-09-09       1  sKGZAxhjyO0nxQ9CrlZbSw==   \n",
       "2   32    Male     Hà Nội 2019-09-09       1  Lert87J0SCGfce6PBkv0+w==   \n",
       "3   32  Female     Hà Nội 2019-09-09       1  SbtEwTlwz6kOJtnjtxDZ7A==   \n",
       "4   32    Male    Phú Thọ 2019-09-08       1  gyoBkm/XqdHcd0hl5NScQw==   \n",
       "\n",
       "                  enc_phone                    mstcty  \\\n",
       "0  AqDUrRqQB5VWNeCEjWz1xA==  AlcWPA988/SiJ6VzK0Y80Q==   \n",
       "1  X7sxKRS6+JpqHwBCxplySQ==  e2i08DAYVh3Ak1Tc1uGOeQ==   \n",
       "2  jJFZhFarLQ2XhQMRUYtwDg==  IMkcueFODYw8yBeIcrjfWw==   \n",
       "3  0Bol+Ib1xGA8xQUqb43Uyg==  9GTjGMqAROx0QDqSwSNRuw==   \n",
       "4  S9kop0jGn49mxYh+Sst1uQ==  Eq7QA7qXbUj0MSCIxQ5pZA==   \n",
       "\n",
       "                mst_encrypt ngay_lap_re  ...  biztime_monthly_calldayno_t12  \\\n",
       "0                       NaN  2017-03-30  ...                            NaN   \n",
       "1  yJF35ZaZMOyKAlpmRy8+gQ==  2019-03-28  ...                            9.0   \n",
       "2  tl7HluUE2SMAxYKzUrAxfg==  2019-04-01  ...                           26.0   \n",
       "3  cTHkX9GiFDiX+gGjBjbcvQ==  2015-04-17  ...                           28.0   \n",
       "4  0bMQgBJeWrfKNgQb68SJ+w==  2018-03-28  ...                            NaN   \n",
       "\n",
       "   biztime_monthly_callduration_t12  biztime_monthly_avgcallduration_t12  \\\n",
       "0                               NaN                                  NaN   \n",
       "1                             350.0                            18.421053   \n",
       "2                           32849.0                            23.977372   \n",
       "3                           13066.0                           123.264151   \n",
       "4                               NaN                                  NaN   \n",
       "\n",
       "   biztime_monthly_stdcallduration_t12  nighttime_monthly_nocontact_t12  \\\n",
       "0                                  NaN                              NaN   \n",
       "1                            12.125803                              NaN   \n",
       "2                            22.093273                             12.0   \n",
       "3                           245.821240                              1.0   \n",
       "4                                  NaN                              NaN   \n",
       "\n",
       "   nighttime_monthly_callno_t12  nighttime_monthly_calldayno_t12  \\\n",
       "0                           NaN                              NaN   \n",
       "1                           NaN                              NaN   \n",
       "2                          22.0                             12.0   \n",
       "3                           3.0                              1.0   \n",
       "4                           NaN                              NaN   \n",
       "\n",
       "   nighttime_monthly_callduration_t12  nighttime_monthly_avgcallduration_t12  \\\n",
       "0                                 NaN                                    NaN   \n",
       "1                                 NaN                                    NaN   \n",
       "2                              2561.0                             116.409091   \n",
       "3                               234.0                              78.000000   \n",
       "4                                 NaN                                    NaN   \n",
       "\n",
       "   nighttime_monthly_stdcallduration_t12  \n",
       "0                                    NaN  \n",
       "1                                    NaN  \n",
       "2                             163.256345  \n",
       "3                              44.136153  \n",
       "4                                    NaN  \n",
       "\n",
       "[5 rows x 328 columns]"
      ]
     },
     "execution_count": 6,
     "metadata": {},
     "output_type": "execute_result"
    }
   ],
   "source": [
    "# data loading\n",
    "data = pd.read_excel('data_tbv.xlsx')\n",
    "data.head()"
   ]
  },
  {
   "cell_type": "code",
   "execution_count": 7,
   "id": "990a258f",
   "metadata": {},
   "outputs": [
    {
     "data": {
      "text/plain": [
       "True"
      ]
     },
     "execution_count": 7,
     "metadata": {},
     "output_type": "execute_result"
    }
   ],
   "source": [
    "'kich_hoat' in data.columns"
   ]
  },
  {
   "cell_type": "code",
   "execution_count": 8,
   "id": "ac8fddd7",
   "metadata": {},
   "outputs": [
    {
     "name": "stdout",
     "output_type": "stream",
     "text": [
      "(24484, 331)\n",
      "(24484, 316)\n"
     ]
    }
   ],
   "source": [
    "# calculate time active for phone number\n",
    "data.kich_hoat = pd.to_datetime(data.kich_hoat.astype(str), format='%Y%m%d')\n",
    "data['mobileno_timeactive'] = (data.req_date - data.kich_hoat)/np.timedelta64(1,'D')\n",
    "\n",
    "# com_activeyear\n",
    "data['com_startyear'].replace({0: np.nan}, inplace=True)\n",
    "data['com_taxyear'].replace({0: np.nan}, inplace=True)\n",
    "data['com_activeyear'] = data.req_date.apply(lambda x: x.year) - data.com_startyear\n",
    "data['com_taxingyear'] = data.req_date.apply(lambda x: x.year) - data.com_taxyear\n",
    "\n",
    "data.loc[data.com_activeyear < 0,'com_activeyear'] = np.nan\n",
    "data.loc[data.com_taxingyear < 0,'com_taxingyear'] = np.nan\n",
    "\n",
    "\n",
    "print(data.shape)\n",
    "redundant_cols = ['enc_id','enc_phone','mstcty','mst_encrypt','msisdn','req_date','ngay_lap_re','app_year','tax_year',\n",
    "                  'owner_card_issu','owner_regi_date','kich_hoat','com_startyear','com_taxyear','com_active']\n",
    "data.drop(columns=redundant_cols, inplace=True)\n",
    "print(data.shape)"
   ]
  },
  {
   "cell_type": "code",
   "execution_count": 9,
   "id": "f1b2a72a",
   "metadata": {},
   "outputs": [
    {
     "data": {
      "text/plain": [
       "(22080, 316)"
      ]
     },
     "execution_count": 9,
     "metadata": {},
     "output_type": "execute_result"
    }
   ],
   "source": [
    "# take records with last updated tax within 1 year prior to request date\n",
    "data = data[data.t_year <= 1]\n",
    "data.shape"
   ]
  },
  {
   "cell_type": "code",
   "execution_count": 10,
   "id": "5fa8b033",
   "metadata": {},
   "outputs": [
    {
     "data": {
      "text/plain": [
       "['age',\n",
       " 'sex',\n",
       " 'province',\n",
       " 'is_bad',\n",
       " 't_year',\n",
       " 't_month',\n",
       " 'tongthunhap_y1',\n",
       " 'taxemployer_1y',\n",
       " 'taxemployer_2y',\n",
       " 'nodeclaration_y1',\n",
       " 'no_dependon',\n",
       " 'com_business',\n",
       " 'com_size',\n",
       " 'com_province',\n",
       " 'quan_huyen',\n",
       " 'tinh_thanh_pho',\n",
       " 'acc_type',\n",
       " 'tong_tien_t1',\n",
       " 'tien_cam_ket_va_vas_t1',\n",
       " 'tien_cuoc_goi_t1',\n",
       " 'tien_cuoc_tin_nhan_t1',\n",
       " 'so_giay_goi_t1',\n",
       " 'so_tin_nhan_t1',\n",
       " 'tong_tien_t2',\n",
       " 'tien_cam_ket_va_vas_t2',\n",
       " 'tien_cuoc_goi_t2',\n",
       " 'tien_cuoc_tin_nhan_t2',\n",
       " 'so_giay_goi_t2',\n",
       " 'so_tin_nhan_t2',\n",
       " 'overall_monthly_nocontact_t3',\n",
       " 'overall_monthly_callno_t3',\n",
       " 'overall_monthly_calldayno_t3',\n",
       " 'overall_monthly_callduration_t3',\n",
       " 'overall_monthly_avgcallduration_t3',\n",
       " 'overall_monthly_stdcallduration_t3',\n",
       " 'biztime_monthly_nocontact_t3',\n",
       " 'biztime_monthly_callno_t3',\n",
       " 'biztime_monthly_calldayno_t3',\n",
       " 'biztime_monthly_callduration_t3',\n",
       " 'biztime_monthly_avgcallduration_t3',\n",
       " 'biztime_monthly_stdcallduration_t3',\n",
       " 'mobileno_timeactive',\n",
       " 'com_activeyear',\n",
       " 'com_taxingyear']"
      ]
     },
     "execution_count": 10,
     "metadata": {},
     "output_type": "execute_result"
    }
   ],
   "source": [
    "# count_missing\n",
    "missing_thres = 0.25\n",
    "missing_percent = (data.isna().sum()/data.shape[0])\n",
    "missing_percent.head()\n",
    "varlist = missing_percent[missing_percent <= missing_thres].index.tolist()\n",
    "varlist"
   ]
  },
  {
   "cell_type": "code",
   "execution_count": 271,
   "id": "648c0c2c",
   "metadata": {},
   "outputs": [
    {
     "data": {
      "text/plain": [
       "age                                      0\n",
       "sex                                      0\n",
       "province                                 0\n",
       "is_bad                                   0\n",
       "t_year                                   0\n",
       "t_month                                  0\n",
       "tongthunhap_y1                        3861\n",
       "taxemployer_1y                           0\n",
       "taxemployer_2y                           0\n",
       "nodeclaration_y1                      3861\n",
       "no_dependon                            582\n",
       "com_business                           689\n",
       "com_size                               552\n",
       "com_province                           552\n",
       "quan_huyen                               0\n",
       "tinh_thanh_pho                           0\n",
       "acc_type                                 0\n",
       "tong_tien_t1                             0\n",
       "tien_cam_ket_va_vas_t1                   0\n",
       "tien_cuoc_goi_t1                         0\n",
       "tien_cuoc_tin_nhan_t1                    0\n",
       "so_giay_goi_t1                           0\n",
       "so_tin_nhan_t1                           0\n",
       "tong_tien_t2                          3700\n",
       "tien_cam_ket_va_vas_t2                3700\n",
       "tien_cuoc_goi_t2                      3700\n",
       "tien_cuoc_tin_nhan_t2                 3700\n",
       "so_giay_goi_t2                        3700\n",
       "so_tin_nhan_t2                        3700\n",
       "overall_monthly_nocontact_t3          2596\n",
       "overall_monthly_callno_t3             2596\n",
       "overall_monthly_calldayno_t3          2596\n",
       "overall_monthly_callduration_t3       2596\n",
       "overall_monthly_avgcallduration_t3    2596\n",
       "overall_monthly_stdcallduration_t3    2790\n",
       "biztime_monthly_nocontact_t3          2779\n",
       "biztime_monthly_callno_t3             2779\n",
       "biztime_monthly_calldayno_t3          2779\n",
       "biztime_monthly_callduration_t3       2779\n",
       "biztime_monthly_avgcallduration_t3    2779\n",
       "biztime_monthly_stdcallduration_t3    3020\n",
       "mobileno_timeactive                      0\n",
       "com_activeyear                        1103\n",
       "com_taxingyear                         570\n",
       "dtype: int64"
      ]
     },
     "execution_count": 271,
     "metadata": {},
     "output_type": "execute_result"
    }
   ],
   "source": [
    "data = data[varlist]\n",
    "data.to_csv('data_filtermissing.csv', index=None)\n",
    "data[varlist].isna().sum()"
   ]
  },
  {
   "cell_type": "code",
   "execution_count": 272,
   "id": "d284b99c",
   "metadata": {},
   "outputs": [],
   "source": [
    "# impute missing value\n",
    "def impute_missing(input_data):\n",
    "    data = input_data\n",
    "    # group of cols replaced missing with -1\n",
    "    cols1 = ['tongthunhap_y1','nodeclaration_y1','com_size','com_activeyear','com_taxingyear']\n",
    "    data[cols1] = data[cols1].fillna(-1)\n",
    "    \n",
    "    # group of cols replaced missing with 0\n",
    "    cols2 = ['no_dependon'] + varlist[-27:-3]\n",
    "    data[cols2] = data[cols2].fillna(0)\n",
    "    \n",
    "    # group of categorical cols replaced missing value with 'missing'\n",
    "    cols3 = ['com_business','com_province']\n",
    "    data[cols3] = data[cols3].fillna('missing')\n",
    "    \n",
    "    return data\n",
    "    \n",
    "data = impute_missing(data)"
   ]
  },
  {
   "cell_type": "code",
   "execution_count": 323,
   "id": "4f96b270",
   "metadata": {},
   "outputs": [
    {
     "data": {
      "text/plain": [
       "age                                   0\n",
       "sex                                   0\n",
       "province                              0\n",
       "is_bad                                0\n",
       "t_year                                0\n",
       "t_month                               0\n",
       "tongthunhap_y1                        0\n",
       "taxemployer_1y                        0\n",
       "taxemployer_2y                        0\n",
       "nodeclaration_y1                      0\n",
       "no_dependon                           0\n",
       "com_size                              0\n",
       "acc_type                              0\n",
       "tong_tien_t1                          0\n",
       "tien_cam_ket_va_vas_t1                0\n",
       "tien_cuoc_goi_t1                      0\n",
       "tien_cuoc_tin_nhan_t1                 0\n",
       "so_giay_goi_t1                        0\n",
       "so_tin_nhan_t1                        0\n",
       "tong_tien_t2                          0\n",
       "tien_cam_ket_va_vas_t2                0\n",
       "tien_cuoc_goi_t2                      0\n",
       "tien_cuoc_tin_nhan_t2                 0\n",
       "so_giay_goi_t2                        0\n",
       "so_tin_nhan_t2                        0\n",
       "overall_monthly_nocontact_t3          0\n",
       "overall_monthly_callno_t3             0\n",
       "overall_monthly_calldayno_t3          0\n",
       "overall_monthly_callduration_t3       0\n",
       "overall_monthly_avgcallduration_t3    0\n",
       "overall_monthly_stdcallduration_t3    0\n",
       "biztime_monthly_nocontact_t3          0\n",
       "biztime_monthly_callno_t3             0\n",
       "biztime_monthly_calldayno_t3          0\n",
       "biztime_monthly_callduration_t3       0\n",
       "biztime_monthly_avgcallduration_t3    0\n",
       "biztime_monthly_stdcallduration_t3    0\n",
       "mobileno_timeactive                   0\n",
       "com_activeyear                        0\n",
       "com_taxingyear                        0\n",
       "compare_province                      0\n",
       "com_area                              0\n",
       "telco_area                            0\n",
       "dtype: int64"
      ]
     },
     "execution_count": 323,
     "metadata": {},
     "output_type": "execute_result"
    }
   ],
   "source": [
    "data.isna().sum()"
   ]
  },
  {
   "cell_type": "code",
   "execution_count": 273,
   "id": "1375153e",
   "metadata": {},
   "outputs": [],
   "source": [
    "import pandas.core.algorithms as algos\n",
    "from pandas import Series\n",
    "import scipy.stats.stats as stats\n",
    "import re\n",
    "import traceback\n",
    "import string\n",
    "\n",
    "max_bin = 20\n",
    "force_bin = 3\n",
    "\n",
    "# define a binning function\n",
    "def mono_bin(Y, X, n = max_bin):\n",
    "    \n",
    "    df1 = pd.DataFrame({\"X\": X, \"Y\": Y})\n",
    "    justmiss = df1[['X','Y']][df1.X.isnull()]\n",
    "    notmiss = df1[['X','Y']][df1.X.notnull()]\n",
    "    r = 0\n",
    "    while np.abs(r) < 1:\n",
    "        try:\n",
    "            d1 = pd.DataFrame({\"X\": notmiss.X, \"Y\": notmiss.Y, \"Bucket\": pd.qcut(notmiss.X, n)})\n",
    "            d2 = d1.groupby('Bucket', as_index=True)\n",
    "            r, p = stats.spearmanr(d2.mean().X, d2.mean().Y)\n",
    "            n = n - 1 \n",
    "        except Exception as e:\n",
    "            n = n - 1\n",
    "\n",
    "    if len(d2) == 1:\n",
    "        n = force_bin         \n",
    "        bins = np.quantile(notmiss.X, np.linspace(0, 1, n))\n",
    "        if len(np.unique(bins)) == 2:\n",
    "            bins = np.insert(bins, 0, 1)\n",
    "            bins[1] = bins[1]-(bins[1]/2)\n",
    "        d1 = pd.DataFrame({\"X\": notmiss.X, \"Y\": notmiss.Y, \"Bucket\": pd.cut(notmiss.X, np.unique(bins),include_lowest=True)}) \n",
    "        d2 = d1.groupby('Bucket', as_index=True)\n",
    "    \n",
    "    d3 = pd.DataFrame({},index=[])\n",
    "    d3[\"MIN_VALUE\"] = d2.min().X\n",
    "    d3[\"MAX_VALUE\"] = d2.max().X\n",
    "    d3[\"COUNT\"] = d2.count().Y\n",
    "    d3[\"EVENT\"] = d2.sum().Y\n",
    "    d3[\"NONEVENT\"] = d2.count().Y - d2.sum().Y\n",
    "    d3=d3.reset_index(drop=True)\n",
    "    \n",
    "    if len(justmiss.index) > 0:\n",
    "        d4 = pd.DataFrame({'MIN_VALUE':np.nan},index=[0])\n",
    "        d4[\"MAX_VALUE\"] = np.nan\n",
    "        d4[\"COUNT\"] = justmiss.count().Y\n",
    "        d4[\"EVENT\"] = justmiss.sum().Y\n",
    "        d4[\"NONEVENT\"] = justmiss.count().Y - justmiss.sum().Y\n",
    "        d3 = d3.append(d4,ignore_index=True)\n",
    "    \n",
    "    d3[\"EVENT_RATE\"] = d3.EVENT/d3.COUNT\n",
    "    d3[\"NON_EVENT_RATE\"] = d3.NONEVENT/d3.COUNT\n",
    "    d3[\"DIST_EVENT\"] = d3.EVENT/d3.sum().EVENT\n",
    "    d3[\"DIST_NON_EVENT\"] = d3.NONEVENT/d3.sum().NONEVENT\n",
    "    d3[\"WOE\"] = np.log(d3.DIST_EVENT/d3.DIST_NON_EVENT)\n",
    "    d3[\"IV\"] = (d3.DIST_EVENT-d3.DIST_NON_EVENT)*np.log(d3.DIST_EVENT/d3.DIST_NON_EVENT)\n",
    "    d3[\"VAR_NAME\"] = \"VAR\"\n",
    "    d3 = d3[['VAR_NAME','MIN_VALUE', 'MAX_VALUE', 'COUNT', 'EVENT', 'EVENT_RATE', 'NONEVENT', 'NON_EVENT_RATE', 'DIST_EVENT','DIST_NON_EVENT','WOE', 'IV']]       \n",
    "    d3 = d3.replace([np.inf, -np.inf], 0)\n",
    "    d3.IV = d3.IV.sum()\n",
    "    \n",
    "    return(d3)\n",
    "\n",
    "def char_bin(Y, X):\n",
    "        \n",
    "    df1 = pd.DataFrame({\"X\": X, \"Y\": Y})\n",
    "    justmiss = df1[['X','Y']][df1.X.isnull()]\n",
    "    notmiss = df1[['X','Y']][df1.X.notnull()]    \n",
    "    df2 = notmiss.groupby('X',as_index=True)\n",
    "    \n",
    "    d3 = pd.DataFrame({},index=[])\n",
    "    d3[\"COUNT\"] = df2.count().Y\n",
    "    d3[\"MIN_VALUE\"] = df2.sum().Y.index\n",
    "    d3[\"MAX_VALUE\"] = d3[\"MIN_VALUE\"]\n",
    "    d3[\"EVENT\"] = df2.sum().Y\n",
    "    d3[\"NONEVENT\"] = df2.count().Y - df2.sum().Y\n",
    "    \n",
    "    if len(justmiss.index) > 0:\n",
    "        d4 = pd.DataFrame({'MIN_VALUE':np.nan},index=[0])\n",
    "        d4[\"MAX_VALUE\"] = np.nan\n",
    "        d4[\"COUNT\"] = justmiss.count().Y\n",
    "        d4[\"EVENT\"] = justmiss.sum().Y\n",
    "        d4[\"NONEVENT\"] = justmiss.count().Y - justmiss.sum().Y\n",
    "        d3 = d3.append(d4,ignore_index=True)\n",
    "    \n",
    "    d3[\"EVENT_RATE\"] = d3.EVENT/d3.COUNT\n",
    "    d3[\"NON_EVENT_RATE\"] = d3.NONEVENT/d3.COUNT\n",
    "    d3[\"DIST_EVENT\"] = d3.EVENT/d3.sum().EVENT\n",
    "    d3[\"DIST_NON_EVENT\"] = d3.NONEVENT/d3.sum().NONEVENT\n",
    "    d3[\"WOE\"] = np.log(d3.DIST_EVENT/d3.DIST_NON_EVENT)\n",
    "    d3[\"IV\"] = (d3.DIST_EVENT-d3.DIST_NON_EVENT)*np.log(d3.DIST_EVENT/d3.DIST_NON_EVENT)\n",
    "    d3[\"VAR_NAME\"] = \"VAR\"\n",
    "    d3 = d3[['VAR_NAME','MIN_VALUE', 'MAX_VALUE', 'COUNT', 'EVENT', 'EVENT_RATE', 'NONEVENT', 'NON_EVENT_RATE', 'DIST_EVENT','DIST_NON_EVENT','WOE', 'IV']]      \n",
    "    d3 = d3.replace([np.inf, -np.inf], 0)\n",
    "    d3.IV = d3.IV.sum()\n",
    "    d3 = d3.reset_index(drop=True)\n",
    "    \n",
    "    return(d3)\n",
    "\n",
    "def data_vars(df1, target):\n",
    "    \n",
    "    stack = traceback.extract_stack()\n",
    "    filename, lineno, function_name, code = stack[-2]\n",
    "    vars_name = re.compile(r'\\((.*?)\\).*$').search(code).groups()[0]\n",
    "    final = (re.findall(r\"[\\w']+\", vars_name))[-1]\n",
    "    \n",
    "    x = df1.dtypes.index\n",
    "    count = -1\n",
    "    \n",
    "    for i in x:\n",
    "        if i.upper() not in (final.upper()):\n",
    "            if np.issubdtype(df1[i], np.number) and len(Series.unique(df1[i])) > 2:\n",
    "                conv = mono_bin(target, df1[i])\n",
    "                conv[\"VAR_NAME\"] = i\n",
    "                count = count + 1\n",
    "            else:\n",
    "                conv = char_bin(target, df1[i])\n",
    "                conv[\"VAR_NAME\"] = i            \n",
    "                count = count + 1\n",
    "                \n",
    "            if count == 0:\n",
    "                iv_df = conv\n",
    "            else:\n",
    "                iv_df = iv_df.append(conv,ignore_index=True)\n",
    "    \n",
    "    iv = pd.DataFrame({'IV':iv_df.groupby('VAR_NAME').IV.max()})\n",
    "    iv = iv.reset_index()\n",
    "    return(iv_df,iv)"
   ]
  },
  {
   "cell_type": "code",
   "execution_count": 274,
   "id": "d5949838",
   "metadata": {},
   "outputs": [],
   "source": [
    "# remove \"quan_huyen\",\"com_business\" \n",
    "# group tinh_thanh_pho, com_province and province into areas\n",
    "import unidecode\n",
    "\n",
    "def normalize_province(x):\n",
    "    name = unidecode.unidecode(x).lower().replace(' ','')\n",
    "    \n",
    "    format_dict = {'hanoi':['hn','tphn','tphanoi','thanhphohanoi','hanoi','hanoi(hni1)','hanoi(hni2)'],\n",
    "                   'hochiminh':['tphochiminh','tphcm','hcm','hochiminh'],\n",
    "                   'daklak':['daclac','daclak','daklac','daklak'],\n",
    "                   'daknong':['dacnong','daknong'],\n",
    "                   'vungtau':['bariavungtau','vungtau','brvt'],\n",
    "                   'vinhphuc':['vinhphu','vinhp'],\n",
    "                   'thuathienhue':['hue','thuathienhue'],\n",
    "                   'backan':['backan','baccan']}\n",
    "    \n",
    "    for k,v in format_dict.items():\n",
    "        if name in v:\n",
    "            return k\n",
    "    \n",
    "    return name\n",
    "    \n",
    "def determine_economic_area(x):\n",
    "    map_dict = {'trung du va mien nui phia bac':['hagiang','caobang','langson','bacgiang','phutho','thainguyen','backan','tuyenquang','laocai','yenbai','laichau','sonla','dienbien','hoabinh'],\n",
    "                'dong bang song hong':['hanoi','haiphong','haiduong','hungyen','vinhphuc','bacninh','thaibinh','namdinh','hanam','ninhbinh','quangninh'],\n",
    "                'bac trung bo va duyen hai mien trung':['thanhhoa','nghean','hatinh','quangbinh','quangtri','thuathienhue','danang','quangnam','quangngai','binhdinh','phuyen','khanhhoa','ninhthuan','binhthuan'],\n",
    "                'tay nguyen':['kontum','gialai','daklak','daknong','lamdong'],\n",
    "                'dong nam bo':['hochiminh','dongnai','vungtau','binhduong','binhphuoc','tayninh'],\n",
    "                'dong bang song cuu long':['cantho','longan','tiengiang','bentre','travinh','vinhlong','angiang','dongthap','kiengiang','haugiang','soctrang','baclieu','camau']}\n",
    "    for k, v in map_dict.items():\n",
    "        if x in v:\n",
    "            return k\n",
    "    return 'missing'\n",
    "\n",
    "data['com_province'] = data['com_province'].apply(lambda x: normalize_province(x))\n",
    "data['tinh_thanh_pho'] = data['tinh_thanh_pho'].apply(lambda x: normalize_province(x))\n",
    "data['compare_province'] = data['com_province'] == data['tinh_thanh_pho']\n",
    "data['com_area'] = data['com_province'].apply(lambda x: determine_economic_area(x))\n",
    "data['telco_area'] = data['tinh_thanh_pho'].apply(lambda x: determine_economic_area(x))\n",
    "data.drop(columns=['com_province','tinh_thanh_pho','quan_huyen','com_business'], inplace=True)"
   ]
  },
  {
   "cell_type": "code",
   "execution_count": 275,
   "id": "a89b859b",
   "metadata": {},
   "outputs": [],
   "source": [
    "var = data.columns.tolist()\n",
    "var.remove('is_bad')"
   ]
  },
  {
   "cell_type": "code",
   "execution_count": 276,
   "id": "58b92b7d",
   "metadata": {},
   "outputs": [],
   "source": [
    "iv_df, iv = data_vars(data[var], data.is_bad)"
   ]
  },
  {
   "cell_type": "code",
   "execution_count": 277,
   "id": "7c5a4f1b",
   "metadata": {},
   "outputs": [
    {
     "data": {
      "text/plain": [
       "['age',\n",
       " 'biztime_monthly_avgcallduration_t3',\n",
       " 'biztime_monthly_stdcallduration_t3',\n",
       " 'com_activeyear',\n",
       " 'com_area',\n",
       " 'com_size',\n",
       " 'com_taxingyear',\n",
       " 'compare_province',\n",
       " 'mobileno_timeactive',\n",
       " 'no_dependon',\n",
       " 'overall_monthly_avgcallduration_t3',\n",
       " 'overall_monthly_stdcallduration_t3',\n",
       " 'province',\n",
       " 'sex',\n",
       " 'telco_area',\n",
       " 'tong_tien_t1',\n",
       " 'tong_tien_t2',\n",
       " 'tongthunhap_y1']"
      ]
     },
     "execution_count": 277,
     "metadata": {},
     "output_type": "execute_result"
    }
   ],
   "source": [
    "iv_thres = 0.02\n",
    "picked_var = iv.loc[iv.IV > iv_thres, 'VAR_NAME'].tolist()\n",
    "picked_var"
   ]
  },
  {
   "cell_type": "code",
   "execution_count": 327,
   "id": "8430f910",
   "metadata": {},
   "outputs": [],
   "source": [
    "transform_dict = {}\n",
    "for i in cat:\n",
    "    temp_dict = {}\n",
    "    temp = iv_df.loc[iv_df.VAR_NAME == i].reset_index(drop=True)\n",
    "    temp['value'] = temp.apply(lambda row: pd.Interval(row.MIN_VALUE, row.MAX_VALUE, closed='both') if pd.notna(row.MIN_VALUE) and (row.MIN_VALUE != row.MAX_VALUE) else row.MIN_VALUE , axis=1)\n",
    "    for j in range(temp.shape[0]):\n",
    "        temp_dict[temp.loc[j, 'value']] = temp.loc[j, 'WOE']\n",
    "        \n",
    "    transform_dict[i] = temp_dict"
   ]
  },
  {
   "cell_type": "code",
   "execution_count": 328,
   "id": "824b3d41",
   "metadata": {},
   "outputs": [],
   "source": [
    "def binning_func(x, binning_array):\n",
    "    for i in binning_array:\n",
    "        if isinstance(i[0], pd.Interval):\n",
    "            if x in i[0]:\n",
    "                return i[1]\n",
    "        else:\n",
    "            if x == i[0]:\n",
    "                return i[1]\n",
    "\n",
    "data_processed = pd.DataFrame()\n",
    "\n",
    "for k, v in binning_dict.items():\n",
    "    data_processed[k] = data[k].apply(lambda x: binning_func(x, v))"
   ]
  },
  {
   "cell_type": "code",
   "execution_count": 329,
   "id": "24fe82ef",
   "metadata": {},
   "outputs": [],
   "source": [
    "data_processed['is_bad'] = data['is_bad']"
   ]
  },
  {
   "cell_type": "code",
   "execution_count": 331,
   "id": "535a9832",
   "metadata": {},
   "outputs": [],
   "source": [
    "X = data_processed.iloc[:,:-1]\n",
    "y = data_processed.iloc[:,-1]\n",
    "\n",
    "from sklearn.preprocessing import StandardScaler\n",
    "sc = StandardScaler()\n",
    "X_sc = sc.fit_transform(X)\n"
   ]
  },
  {
   "cell_type": "code",
   "execution_count": 414,
   "id": "624c4fce",
   "metadata": {},
   "outputs": [],
   "source": [
    "# metric\n",
    "from sklearn.metrics import roc_curve, auc\n",
    "import matplotlib.pyplot as plt\n",
    "from sklearn.metrics import confusion_matrix\n",
    "from sklearn.model_selection import StratifiedKFold, StratifiedShuffleSplit\n",
    "\n",
    "#roc curve:\n",
    "def roc_plot(model, X_test, y_test, plot=True):\n",
    "    fpr, tpr, thres = roc_curve(y_test, model.predict_proba(X_test)[:,1])\n",
    "    auroc = auc(fpr, tpr)\n",
    "    \n",
    "    if plot:\n",
    "        plt.figure()\n",
    "        lw = 2\n",
    "        plt.plot(\n",
    "            fpr,\n",
    "            tpr,\n",
    "            color=\"darkorange\",\n",
    "            lw=lw,\n",
    "            label=\"ROC curve (area = %0.2f)\" % auroc\n",
    "        )\n",
    "        plt.plot([0, 1], [0, 1], color=\"navy\", lw=lw, linestyle=\"--\")\n",
    "        plt.xlim([0.0, 1.0])\n",
    "        plt.ylim([0.0, 1.05])\n",
    "        plt.xlabel(\"False Positive Rate\")\n",
    "        plt.ylabel(\"True Positive Rate\")\n",
    "        plt.title(\"Receiver operating characteristic example\")\n",
    "        plt.legend(loc=\"lower right\")\n",
    "        plt.show()\n",
    "\n",
    "    return auroc\n",
    "\n",
    "def class_measure(model, X_test, y_test):\n",
    "    # thres set by the whole sample bad rate\n",
    "    \n",
    "    y_true = y_test\n",
    "    y_pred = model.predict_proba(X_test)[:,1]\n",
    "    \n",
    "    \n",
    "    percent = sum(y_true)/len(y_true)\n",
    "    thres = np.percentile(y_pred, 100 - percent*100)\n",
    "    y_label = np.where(y_pred >= thres, 1, 0)\n",
    "    \n",
    "    fpr, tpr, thres = roc_curve(y_true, y_pred)\n",
    "    auroc = auc(fpr, tpr)\n",
    "    \n",
    "    tn, fp, fn, tp = confusion_matrix(y_true, y_label).ravel()\n",
    "    accuracy = (tn + tp)/(tn+fp+fn+tp)\n",
    "    sensitivity = tp/(tp+fp)\n",
    "    specificity = tn/(tn+fn)\n",
    "    g_measure = np.sqrt(sensitivity*specificity)\n",
    "    \n",
    "    return accuracy, sensitivity, specificity, g_measure, auroc\n",
    "\n",
    "def performance_measure(model, X, y, kind='StratifiedShuffleSplit', loop_perfold=1, random_state_data=None):\n",
    "    # 10-fold cross-validation\n",
    "    k = 10\n",
    "    # 10 shuffle split\n",
    "    kf = StratifiedShuffleSplit(n_splits=k, test_size=0.1, random_state=random_state_data)\n",
    "    folds = kf.split(X, y)\n",
    "    \n",
    "    result = []\n",
    "    for train_idx, test_idx in folds:\n",
    "        X_train , X_test = X.iloc[train_idx,:],X.iloc[test_idx,:]\n",
    "        y_train , y_test = y.iloc[train_idx] , y.iloc[test_idx]\n",
    "        \n",
    "        result_ = []\n",
    "        for i in range(loop_perfold):\n",
    "            model.fit(X_train, y_train)   \n",
    "            result_.append(list(class_measure(model, X_test, y_test)))\n",
    "        result.append(np.mean(result_, axis=0))\n",
    "        \n",
    "    return np.mean(result, axis=0)\n",
    "             \n",
    "    "
   ]
  },
  {
   "cell_type": "code",
   "execution_count": 1,
   "id": "692822c5",
   "metadata": {},
   "outputs": [],
   "source": [
    "a = \"I'm ready\""
   ]
  },
  {
   "cell_type": "code",
   "execution_count": 3,
   "id": "6eb4f2f1",
   "metadata": {},
   "outputs": [
    {
     "data": {
      "text/plain": [
       "63"
      ]
     },
     "execution_count": 3,
     "metadata": {},
     "output_type": "execute_result"
    }
   ],
   "source": [
    "15+((4**2)*3)"
   ]
  },
  {
   "cell_type": "code",
   "execution_count": 420,
   "id": "a32cb43b",
   "metadata": {},
   "outputs": [
    {
     "data": {
      "text/plain": [
       "array([0.73369565, 0.44840525, 0.82447761, 0.60798431, 0.71821842])"
      ]
     },
     "execution_count": 420,
     "metadata": {},
     "output_type": "execute_result"
    }
   ],
   "source": [
    "performance_measure(lr, X, y, random_state_data=1000)"
   ]
  },
  {
   "cell_type": "code",
   "execution_count": 421,
   "id": "4094bb70",
   "metadata": {},
   "outputs": [
    {
     "data": {
      "text/plain": [
       "array([0.72341486, 0.42874924, 0.82005754, 0.59294571, 0.69318372])"
      ]
     },
     "execution_count": 421,
     "metadata": {},
     "output_type": "execute_result"
    }
   ],
   "source": [
    "performance_measure(rf, X, y, random_state_data=1000)"
   ]
  },
  {
   "cell_type": "code",
   "execution_count": 422,
   "id": "52aeedd3",
   "metadata": {},
   "outputs": [
    {
     "data": {
      "text/plain": [
       "array([0.73967391, 0.46078799, 0.82841791, 0.61781049, 0.72628507])"
      ]
     },
     "execution_count": 422,
     "metadata": {},
     "output_type": "execute_result"
    }
   ],
   "source": [
    "performance_measure(gb, X, y, random_state_data=1000)"
   ]
  },
  {
   "cell_type": "code",
   "execution_count": 428,
   "id": "8134f2e4",
   "metadata": {},
   "outputs": [
    {
     "data": {
      "text/plain": [
       "array([0.73425725, 0.44956848, 0.82484776, 0.60891896, 0.71541525])"
      ]
     },
     "execution_count": 428,
     "metadata": {},
     "output_type": "execute_result"
    }
   ],
   "source": [
    "elm = EELMClassifier(node=70, activation_func='relu')\n",
    "performance_measure(elm, X, y, random_state_data=1000, loop_perfold=10)"
   ]
  },
  {
   "cell_type": "code",
   "execution_count": 429,
   "id": "ae21a171",
   "metadata": {},
   "outputs": [],
   "source": [
    "from sklearn.base import BaseEstimator, ClassifierMixin\n",
    "from sklearn.utils.validation import check_X_y, check_array, check_is_fitted\n",
    "from sklearn.utils.multiclass import unique_labels\n",
    "from sklearn.preprocessing import OneHotEncoder\n",
    "from sklearn.model_selection import train_test_split\n",
    "\n",
    "from scipy.special import expit\n",
    "import numpy as np\n",
    "\n",
    "class EELMClassifier(BaseEstimator, ClassifierMixin):\n",
    "    def __init__(self, node, activation_func, faster=None, C=None, p=None, random_state=None, \n",
    "                 bat_pop=None, f_range=None, max_iter=None, thres=None):\n",
    "        # node: no. of hidden nodes in the single hidden layer\n",
    "        # activation_func: activation function in ['relu','tanh','hardlim','sigmoid','new_novel']\n",
    "        # faster: in [None, 1, 2], as in Faster ELM (Faster-1: training sample is not huge,\n",
    "        #                                            Faster-2: training sample is huge)\n",
    "        # C: regularization factor for Fasster ELM\n",
    "        # p: parameter for novel activation function\n",
    "        # random_state: set state for random procedure\n",
    "        # bat_pop: no. of bat in population\n",
    "        # f_range: frequency range\n",
    "        # max_iter: no. of loop\n",
    "        \n",
    "        self.node = node\n",
    "        self.activation_func = activation_func\n",
    "        self.faster = faster\n",
    "        self.C = C\n",
    "        self.p = p\n",
    "        self.random_state = random_state\n",
    "        \n",
    "        self.bat_pop = bat_pop\n",
    "        self.f_range = f_range\n",
    "        self.max_iter = max_iter\n",
    "        self.thres = thres\n",
    "        \n",
    "        \n",
    "        if self.activation_func not in ['relu','tanh','hardlim','sig','new_novel']:\n",
    "            raise ValueError('Activation function must be one in [relu, tanh, hardlim, sig, new_novel]')\n",
    "        \n",
    "        if self.faster not in [None,1,2]:\n",
    "            raise ValueError('Parameter faster must be one in [None, 1, 2]')\n",
    "            \n",
    "        if (self.faster != None) and (C == None): \n",
    "            raise ValueError('Missing regularization value C')\n",
    "            \n",
    "        if (self.activation_func == 'new_novel') and (self.p == None):\n",
    "            raise ValueError('Missing parameter p for the new novel activation function')\n",
    "            \n",
    "        if self.bat_pop != None:\n",
    "            if (self.f_range == None) or (self.max_iter == None):\n",
    "                raise ValueError('Missing parameters for the bat algorithm')\n",
    "                \n",
    "    def relu(self, x):\n",
    "        return np.maximum(x, 0, x)\n",
    "    \n",
    "    def tanh(self, x):\n",
    "        return (1 - np.exp(-2*x))/(1 + np.exp(-2*x))\n",
    "    \n",
    "    def hardlim(self, x):\n",
    "        x = np.array(x)\n",
    "        return np.where(x >= 0, 1, 0)\n",
    "    \n",
    "    def sigmoid(self, x):\n",
    "        return expit(x)\n",
    "    \n",
    "    def new(self, x, p):\n",
    "        return x/(1 + x**(4*p-2))**(1/(4*p-2))\n",
    "    \n",
    "    def hidden_nodes(self, X, input_weights, biases):\n",
    "        G = np.dot(X, input_weights) + biases\n",
    "        if self.activation_func == 'relu':\n",
    "            H = self.relu(G)\n",
    "        elif self.activation_func == 'sig':\n",
    "            H = self.sigmoid(G)\n",
    "        elif self.activation_func == 'tanh':\n",
    "            H = self.tanh(G)\n",
    "        elif self.activation_func == 'hardlim':\n",
    "            H = self.hardlim(G)\n",
    "        elif self.activation_func == 'new':\n",
    "            H = self.new(G, self.p)\n",
    "            \n",
    "        return H\n",
    "    \n",
    "    def fit(self, X, y):\n",
    "        # Check that X and y have correct shape\n",
    "        X, y = check_X_y(X, np.ravel(y)) # make sure y is 1-d array\n",
    "        # Check the unique classes seen during fit\n",
    "        self.classes_ = unique_labels(y)\n",
    "        self.y_ = OneHotEncoder().fit_transform(y.reshape(-1,1)).toarray()\n",
    "        \n",
    "        if self.random_state != None:\n",
    "                np.random.seed(self.random_state)\n",
    "        \n",
    "        if self.bat_pop == None: #elm\n",
    "            self.input_weights = np.random.normal(size=[X.shape[1],self.node])\n",
    "            self.biases = np.random.normal(size=[self.node])\n",
    "\n",
    "            \n",
    "        else: # eelm\n",
    "            dim = X.shape[1]*self.node + self.node\n",
    "            self.init_bat(dim)\n",
    "            \n",
    "            t = 0\n",
    "            while t < self.max_iter:\n",
    "                thres = self.move_bat(X, y, t+1)\n",
    "                if self.thres != None: # early stop criteria\n",
    "                    if (thres >= 0) and (thres < self.thres):\n",
    "                        break\n",
    "                t += 1\n",
    "            \n",
    "            self.input_weights = self.x_best[:-self.node].reshape(X.shape[1], self.node)\n",
    "            self.biases = self.x_best[-self.node:]\n",
    "        \n",
    "        \n",
    "        # The smallest norm least square solution\n",
    "        H = self.hidden_nodes(X, self.input_weights, self.biases)\n",
    "        if self.faster == 1:\n",
    "            self.output_weights = H.T @ np.linalg.inv(np.identity(X.shape[0])/self.C + H @ H.T) @ self.y_\n",
    "        elif self.faster == 2:\n",
    "            self.output_weights = np.linalg.inv(np.identity(self.node)/self.C + H.T @ H) @ H.T @ self.y_\n",
    "        else:\n",
    "            self.output_weights = np.dot(np.linalg.pinv(H), self.y_)\n",
    "            \n",
    "            \n",
    "    def init_bat(self, dim):\n",
    "        self.Pos = np.random.rand(self.bat_pop, dim)\n",
    "        self.Vel = np.random.rand(self.bat_pop, dim)\n",
    "        \n",
    "        self.x_best = np.zeros(dim)\n",
    "        self.f_min = None\n",
    "        self.fitness_array = np.zeros(self.bat_pop)\n",
    "        \n",
    "        self.L = np.random.uniform(1,2, self.bat_pop)\n",
    "        self.r_init = np.random.uniform(0,1, self.bat_pop)\n",
    "        self.r = self.r_init.copy()\n",
    "        \n",
    "    def fitness(self, X, y, Pos):\n",
    "        X_train, X_val, y_train, y_val = train_test_split(X, y, train_size=0.6, stratify=y)\n",
    "        input_weights = Pos[:-self.node].reshape(X.shape[1], self.node)\n",
    "        biases = Pos[-self.node:]\n",
    "        \n",
    "        H = self.hidden_nodes(X_train, input_weights, biases)\n",
    "        if self.faster == 1:\n",
    "            output_weights = H.T @ np.linalg.inv(np.identity(X_train.shape[0])/self.C + H @ H.T) @ y_train\n",
    "        elif self.faster == 2:\n",
    "            output_weights = np.linalg.inv(np.identity(self.node)/self.C + H.T @ H) @ H.T @ y_train\n",
    "        else:\n",
    "            output_weights = np.dot(np.linalg.pinv(H), y_train)\n",
    "            \n",
    "        y_predict = np.dot(self.hidden_nodes(X_val, input_weights, biases), output_weights)\n",
    "        \n",
    "        fitness = np.linalg.norm(y_predict - y_val)/np.sqrt(y_val.shape[0])\n",
    "        \n",
    "        return fitness\n",
    "    \n",
    "    def move_bat(self, X, y, t, alpha=0.9, gamma=0.9):        \n",
    "        self.f_i = self.f_range[0] + (self.f_range[1] - self.f_range[0])*np.random.uniform(0, 1, self.bat_pop)\n",
    "        self.Vel = self.Vel + (self.Pos - self.x_best)*self.f_i.reshape(-1,1)\n",
    "        self.Pos = self.Pos + self.Vel\n",
    "        \n",
    "        \n",
    "        # calculate fitness for each bat\n",
    "        \n",
    "        for i in range(self.bat_pop):\n",
    "            self.fitness_array[i] = self.fitness(X, y, self.Pos[i])\n",
    "        \n",
    "        best_sol = self.Pos[np.argmin(self.fitness_array)]\n",
    "        \n",
    "        if self.f_min == None: # for the first loop\n",
    "            self.f_min = np.min(self.fitness_array)\n",
    "            self.x_best = best_sol\n",
    "    \n",
    "        for i in range(self.bat_pop):\n",
    "            if np.random.rand() > self.r[i]:\n",
    "                new_Pos = best_sol + np.random.uniform(-1,1, self.Pos.shape[1])*np.mean(self.L) # local random walk\n",
    "            \n",
    "            else:\n",
    "                new_Pos = self.Pos[i] + np.random.rand(self.Pos.shape[1]) #flying randomly\n",
    "                \n",
    "            new_fitness = self.fitness(X, y, new_Pos)\n",
    "            if (np.random.rand() < self.L[i]) & (new_fitness < self.f_min):\n",
    "                # Accept new solution\n",
    "                self.Pos[i] = new_Pos\n",
    "                self.fitness_array[i] = new_fitness\n",
    "                \n",
    "                # Update pulse emission rate and Loudness\n",
    "                self.L[i] = self.L[i] * alpha\n",
    "                self.r[i] = self.r_init[i] *(1 - np.exp(-gamma*t))\n",
    "                \n",
    "        if self.f_min > np.min(self.fitness_array):\n",
    "            thres = self.f_min - np.min(self.fitness_array)\n",
    "            self.f_min = np.min(self.fitness_array)\n",
    "            self.x_best =  self.Pos[np.argmin(self.fitness_array)]\n",
    "            return thres\n",
    "        \n",
    "        return -1\n",
    "        \n",
    "    def predict(self, X):\n",
    "        # Check is fit had been called\n",
    "        check_is_fitted(self)\n",
    "        # Input validation\n",
    "        X = check_array(X)\n",
    "        \n",
    "        prediction = np.argmax(np.dot(self.hidden_nodes(X, self.input_weights, self.biases), self.output_weights),1)\n",
    "    \n",
    "        return prediction\n",
    "    \n",
    "    def predict_proba(self, X):\n",
    "        # Check is fit had been called\n",
    "        check_is_fitted(self)\n",
    "        # Input validation\n",
    "        X = check_array(X)\n",
    "        \n",
    "        prediction = np.dot(self.hidden_nodes(X, self.input_weights, self.biases), self.output_weights)\n",
    "        proba = np.exp(prediction)/np.sum(np.exp(prediction), 1).reshape(-1,1) # Use softmax function to convert to probability\n",
    "        \n",
    "        return proba"
   ]
  },
  {
   "cell_type": "code",
   "execution_count": 431,
   "id": "f1abf765",
   "metadata": {},
   "outputs": [],
   "source": [
    "elm = EELMClassifier(node=70, activation_func='relu')"
   ]
  },
  {
   "cell_type": "code",
   "execution_count": 432,
   "id": "7d7304b3",
   "metadata": {},
   "outputs": [
    {
     "data": {
      "text/plain": [
       "array([0.73413043, 0.44930582, 0.82476418, 0.60870305, 0.71539073])"
      ]
     },
     "execution_count": 432,
     "metadata": {},
     "output_type": "execute_result"
    }
   ],
   "source": [
    "performance_measure(elm, X, y, random_state_data=1000, loop_perfold=10)"
   ]
  },
  {
   "cell_type": "code",
   "execution_count": 438,
   "id": "989abc35",
   "metadata": {},
   "outputs": [],
   "source": [
    "eelm = EELMClassifier(node=70, activation_func='relu', bat_pop=50, f_range=[0,1], max_iter=20)"
   ]
  },
  {
   "cell_type": "code",
   "execution_count": 439,
   "id": "745a82ce",
   "metadata": {},
   "outputs": [
    {
     "data": {
      "text/plain": [
       "array([0.73413949, 0.44932458, 0.82477015, 0.60872245, 0.71110354])"
      ]
     },
     "execution_count": 439,
     "metadata": {},
     "output_type": "execute_result"
    }
   ],
   "source": [
    "performance_measure(eelm, X, y, random_state_data=1000, loop_perfold=10)"
   ]
  },
  {
   "cell_type": "code",
   "execution_count": 437,
   "id": "07abdf09",
   "metadata": {},
   "outputs": [
    {
     "ename": "ValueError",
     "evalue": "Activation function must be one in [relu, tanh, hardlim, sig, new_novel]",
     "output_type": "error",
     "traceback": [
      "\u001b[1;31m---------------------------------------------------------------------------\u001b[0m",
      "\u001b[1;31mValueError\u001b[0m                                Traceback (most recent call last)",
      "\u001b[1;32mC:\\Users\\TUANKH~1.DAN\\AppData\\Local\\Temp/ipykernel_15040/486820715.py\u001b[0m in \u001b[0;36m<module>\u001b[1;34m\u001b[0m\n\u001b[1;32m----> 1\u001b[1;33m \u001b[0meelm\u001b[0m \u001b[1;33m=\u001b[0m \u001b[0mEELMClassifier\u001b[0m\u001b[1;33m(\u001b[0m\u001b[0mnode\u001b[0m\u001b[1;33m=\u001b[0m\u001b[1;36m70\u001b[0m\u001b[1;33m,\u001b[0m \u001b[0mactivation_func\u001b[0m\u001b[1;33m=\u001b[0m\u001b[0mi\u001b[0m\u001b[1;33m,\u001b[0m \u001b[0mbat_pop\u001b[0m\u001b[1;33m=\u001b[0m\u001b[1;36m50\u001b[0m\u001b[1;33m,\u001b[0m \u001b[0mf_range\u001b[0m\u001b[1;33m=\u001b[0m\u001b[1;33m[\u001b[0m\u001b[1;36m0\u001b[0m\u001b[1;33m,\u001b[0m\u001b[1;36m1\u001b[0m\u001b[1;33m]\u001b[0m\u001b[1;33m,\u001b[0m \u001b[0mmax_iter\u001b[0m\u001b[1;33m=\u001b[0m\u001b[1;36m20\u001b[0m\u001b[1;33m)\u001b[0m\u001b[1;33m\u001b[0m\u001b[1;33m\u001b[0m\u001b[0m\n\u001b[0m",
      "\u001b[1;32mC:\\Users\\TUANKH~1.DAN\\AppData\\Local\\Temp/ipykernel_15040/903617808.py\u001b[0m in \u001b[0;36m__init__\u001b[1;34m(self, node, activation_func, faster, C, p, random_state, bat_pop, f_range, max_iter, thres)\u001b[0m\n\u001b[0;32m     36\u001b[0m \u001b[1;33m\u001b[0m\u001b[0m\n\u001b[0;32m     37\u001b[0m         \u001b[1;32mif\u001b[0m \u001b[0mself\u001b[0m\u001b[1;33m.\u001b[0m\u001b[0mactivation_func\u001b[0m \u001b[1;32mnot\u001b[0m \u001b[1;32min\u001b[0m \u001b[1;33m[\u001b[0m\u001b[1;34m'relu'\u001b[0m\u001b[1;33m,\u001b[0m\u001b[1;34m'tanh'\u001b[0m\u001b[1;33m,\u001b[0m\u001b[1;34m'hardlim'\u001b[0m\u001b[1;33m,\u001b[0m\u001b[1;34m'sig'\u001b[0m\u001b[1;33m,\u001b[0m\u001b[1;34m'new_novel'\u001b[0m\u001b[1;33m]\u001b[0m\u001b[1;33m:\u001b[0m\u001b[1;33m\u001b[0m\u001b[1;33m\u001b[0m\u001b[0m\n\u001b[1;32m---> 38\u001b[1;33m             \u001b[1;32mraise\u001b[0m \u001b[0mValueError\u001b[0m\u001b[1;33m(\u001b[0m\u001b[1;34m'Activation function must be one in [relu, tanh, hardlim, sig, new_novel]'\u001b[0m\u001b[1;33m)\u001b[0m\u001b[1;33m\u001b[0m\u001b[1;33m\u001b[0m\u001b[0m\n\u001b[0m\u001b[0;32m     39\u001b[0m \u001b[1;33m\u001b[0m\u001b[0m\n\u001b[0;32m     40\u001b[0m         \u001b[1;32mif\u001b[0m \u001b[0mself\u001b[0m\u001b[1;33m.\u001b[0m\u001b[0mfaster\u001b[0m \u001b[1;32mnot\u001b[0m \u001b[1;32min\u001b[0m \u001b[1;33m[\u001b[0m\u001b[1;32mNone\u001b[0m\u001b[1;33m,\u001b[0m\u001b[1;36m1\u001b[0m\u001b[1;33m,\u001b[0m\u001b[1;36m2\u001b[0m\u001b[1;33m]\u001b[0m\u001b[1;33m:\u001b[0m\u001b[1;33m\u001b[0m\u001b[1;33m\u001b[0m\u001b[0m\n",
      "\u001b[1;31mValueError\u001b[0m: Activation function must be one in [relu, tanh, hardlim, sig, new_novel]"
     ]
    }
   ],
   "source": [
    "eelm = EELMClassifier(node=70, activation_func=i, bat_pop=50, f_range=[0,1], max_iter=20)"
   ]
  },
  {
   "cell_type": "code",
   "execution_count": 351,
   "id": "2dd1a2e0",
   "metadata": {},
   "outputs": [
    {
     "data": {
      "image/png": "[encoded data removed]",
      "text/plain": [
       "<Figure size 432x288 with 1 Axes>"
      ]
     },
     "metadata": {
      "needs_background": "light"
     },
     "output_type": "display_data"
    },
    {
     "data": {
      "image/png": "[encoded data removed]",
      "text/plain": [
       "<Figure size 432x288 with 1 Axes>"
      ]
     },
     "metadata": {
      "needs_background": "light"
     },
     "output_type": "display_data"
    },
    {
     "data": {
      "text/plain": [
       "0.6951481336282938"
      ]
     },
     "execution_count": 351,
     "metadata": {},
     "output_type": "execute_result"
    }
   ],
   "source": [
    "roc_plot(lr, X_test, y_test)\n",
    "roc_plot(rf, X_test, y_test)"
   ]
  },
  {
   "cell_type": "code",
   "execution_count": 341,
   "id": "f1948335",
   "metadata": {},
   "outputs": [
    {
     "data": {
      "text/plain": [
       "0.7810235507246377"
      ]
     },
     "execution_count": 341,
     "metadata": {},
     "output_type": "execute_result"
    }
   ],
   "source": [
    "lr.score(X_test, y_test)"
   ]
  },
  {
   "cell_type": "code",
   "execution_count": 352,
   "id": "2a6b7182",
   "metadata": {},
   "outputs": [
    {
     "data": {
      "text/plain": [
       "0.7735507246376812"
      ]
     },
     "execution_count": 352,
     "metadata": {},
     "output_type": "execute_result"
    }
   ],
   "source": [
    "rf.score(X_test, y_test)"
   ]
  },
  {
   "cell_type": "code",
   "execution_count": 344,
   "id": "927f2f40",
   "metadata": {},
   "outputs": [
    {
     "data": {
      "text/plain": [
       "(0.7418478260869565,\n",
       " 0.4652908067542214,\n",
       " 0.8298507462686567,\n",
       " 0.6213870961139569,\n",
       " 0.7226137604659628)"
      ]
     },
     "execution_count": 344,
     "metadata": {},
     "output_type": "execute_result"
    }
   ],
   "source": [
    "class_measure(lr, X_test, y_test)"
   ]
  },
  {
   "cell_type": "code",
   "execution_count": 353,
   "id": "e8e15242",
   "metadata": {},
   "outputs": [
    {
     "data": {
      "text/plain": [
       "(0.7259963768115942,\n",
       " 0.4363957597173145,\n",
       " 0.8258221680876979,\n",
       " 0.6003209911655852,\n",
       " 0.6951481336282938)"
      ]
     },
     "execution_count": 353,
     "metadata": {},
     "output_type": "execute_result"
    }
   ],
   "source": [
    "class_measure(rf, X_test, y_test)"
   ]
  }
 ],
 "metadata": {
  "kernelspec": {
   "display_name": "Python 3 (ipykernel)",
   "language": "python",
   "name": "python3"
  },
  "language_info": {
   "codemirror_mode": {
    "name": "ipython",
    "version": 3
   },
   "file_extension": ".py",
   "mimetype": "text/x-python",
   "name": "python",
   "nbconvert_exporter": "python",
   "pygments_lexer": "ipython3",
   "version": "3.9.7"
  }
 },
 "nbformat": 4,
 "nbformat_minor": 5
}
